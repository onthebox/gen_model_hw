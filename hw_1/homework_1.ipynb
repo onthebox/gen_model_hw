{
 "cells": [
  {
   "cell_type": "markdown",
   "metadata": {
    "id": "XUgNFOSlFEzm"
   },
   "source": [
    "# МОиВС \"Генеративные модели\", 5-й модуль\n",
    "\n",
    "# Homework 1\n",
    "\n",
    "В этой домашней работе вам предстоит добавить к BERT'у декодерную часть и решить задачу генерации суммаризаций для текстов новостей на русском языке.\n",
    "\n",
    "Дополнительно к этому на отличную оценку потребуется реализовать подсчет метрик качества и менее жадную стратегию выбора следующего токена для генерации.\n",
    "\n",
    "*Мы сразу вас предостерегаем попасть в петлю бесконечного дообучения модели. Эта домашка не на пробитие скора. Мы будем проверять, что вы, в целом, сделали все верно и смогли получить какую-то более-менее адекватную (такую, которая заметно лучше той, что была до начала обучения) генерацию. Таким образом, если вы видите, что модель учится, не надо дообучать её сутками. Нескольких часов точно должно хватить.*\n",
    "\n",
    "\n",
    "\n",
    "---\n",
    "\n",
    "\n",
    "---\n",
    "По любым вопросам касательно этой домашней работы обращайтесь ко своим ассистентам\n",
    "\n",
    "\n"
   ]
  },
  {
   "cell_type": "code",
   "execution_count": null,
   "metadata": {
    "id": "Q-oW4ttVEL_9",
    "scrolled": true
   },
   "outputs": [],
   "source": [
    "import sys\n",
    "!{sys.executable} -m pip install transformers datasets evaluate"
   ]
  },
  {
   "cell_type": "code",
   "execution_count": 1,
   "metadata": {
    "id": "ygnbZcjlgJR9"
   },
   "outputs": [
    {
     "name": "stderr",
     "output_type": "stream",
     "text": [
      "/home/vitya/Desktop/hse_studies/gen_models/venv/lib/python3.10/site-packages/tqdm/auto.py:21: TqdmWarning: IProgress not found. Please update jupyter and ipywidgets. See https://ipywidgets.readthedocs.io/en/stable/user_install.html\n",
      "  from .autonotebook import tqdm as notebook_tqdm\n"
     ]
    }
   ],
   "source": [
    "import torch\n",
    "import torch.nn as nn\n",
    "from transformers import BertTokenizer, BertModel, AutoTokenizer"
   ]
  },
  {
   "cell_type": "markdown",
   "metadata": {
    "id": "MYW38mH0gKX0"
   },
   "source": [
    "## Подготовка данных (0.5 балла)\n",
    "\n",
    "Мы воспользуемся датасетом с 🤗 Ильи Гусева \"gazeta\". Он представляет собой пары (полный текст новости -- его саммари). Пары были взяты с одноименного сайта в домене .ru\n",
    "\n",
    "Более подробно про датасет можно прочитать [здесь](https://huggingface.co/datasets/IlyaGusev/gazeta)\n",
    "\n"
   ]
  },
  {
   "cell_type": "code",
   "execution_count": 8,
   "metadata": {
    "id": "mDV4tJzzB5Hi",
    "scrolled": true
   },
   "outputs": [],
   "source": [
    "# Загрузим данные с попощью библиотеки библиотеки datasets\n",
    "\n",
    "from datasets import load_dataset\n",
    "train_dataset = load_dataset('IlyaGusev/gazeta', revision=\"v2.0\", split='train[:5%]')\n",
    "val_dataset = load_dataset('IlyaGusev/gazeta', revision=\"v2.0\", split='validation[:5%]')"
   ]
  },
  {
   "cell_type": "markdown",
   "metadata": {
    "id": "xOjri9a4h6K6"
   },
   "source": [
    "Вы должны помнить, что тексты перед подачей в модель необходимо **токенизировать**.\n",
    "\n",
    "Добавьте паддинг до `max_length=512` для обучающих данных, а также до `max_length=128` для меток.\n",
    "\n",
    "Используйте обрезку текстов, длина которых в токенах превышает `max_length`"
   ]
  },
  {
   "cell_type": "code",
   "execution_count": 23,
   "metadata": {
    "id": "yp19tTXfgHsq"
   },
   "outputs": [
    {
     "name": "stderr",
     "output_type": "stream",
     "text": [
      "/home/vitya/Desktop/hse_studies/gen_models/venv/lib/python3.10/site-packages/transformers/tokenization_utils_base.py:1601: FutureWarning: `clean_up_tokenization_spaces` was not set. It will be set to `True` by default. This behavior will be depracted in transformers v4.45, and will be then set to `False` by default. For more details check this issue: https://github.com/huggingface/transformers/issues/31884\n",
      "  warnings.warn(\n"
     ]
    }
   ],
   "source": [
    "# Подготовим данные для модели Bert\n",
    "\n",
    "model_name = 'deepvk/bert-base-uncased' # Указание модели BERT\n",
    "\n",
    "tokenizer = AutoTokenizer.from_pretrained(model_name)\n",
    "\n",
    "def preprocess(examples, use_padding=True):\n",
    "\n",
    "    #<YOUR CODE HERE>\n",
    "    padding = 'max_length' if use_padding else 'False'\n",
    "\n",
    "    model_inputs = {\n",
    "        'text': tokenizer(examples['text'], padding=padding, truncation=True, max_length=512),\n",
    "        'summary': tokenizer(examples['summary'], padding=padding, truncation=True, max_length=512)\n",
    "    }\n",
    "\n",
    "    return model_inputs"
   ]
  },
  {
   "cell_type": "code",
   "execution_count": 24,
   "metadata": {
    "colab": {
     "base_uri": "https://localhost:8080/",
     "height": 49,
     "referenced_widgets": [
      "a8e5203a02b845a29f57ca545c50c5d0",
      "09b11d6c6eae4979a1c8cd42e32730ae",
      "911fd70fda12476ab2b788433d6ff83f",
      "bcfc58a3f90745449c3f559aa5ab999a",
      "40c29f2dde174a3c8442d9b86a4e3fe9",
      "ab3d20b0e457431dbe24120bb4becede",
      "68b44cb7bddd4a2f950db1a9c00ce066",
      "2665d63c206a45d88fada74bc984771e",
      "c0ddd3783ec047569c2024e461d5ad0f",
      "06437165ba564bff9e29aa53f4c0df5b",
      "665428d410664f94babcd067b879ce2e"
     ]
    },
    "id": "VQxpZ5ivhjlh",
    "outputId": "b3876676-3dc7-4d1d-894e-f0630172afa4"
   },
   "outputs": [
    {
     "name": "stderr",
     "output_type": "stream",
     "text": [
      "Map: 100%|██████████████████████████| 3048/3048 [00:05<00:00, 571.10 examples/s]\n",
      "Map: 100%|████████████████████████████| 318/318 [00:00<00:00, 528.44 examples/s]\n"
     ]
    }
   ],
   "source": [
    "t_train_dataset = train_dataset.map(preprocess, batched=False)\n",
    "t_train_dataset = t_train_dataset.remove_columns(['title', 'date', 'url'])\n",
    "t_train_dataset.set_format('torch')\n",
    "\n",
    "t_val_dataset = val_dataset.map(preprocess, batched=False)\n",
    "t_val_dataset = t_val_dataset.remove_columns(['title', 'date', 'url'])\n",
    "t_val_dataset.set_format('torch')"
   ]
  },
  {
   "cell_type": "code",
   "execution_count": 7,
   "metadata": {
    "scrolled": true
   },
   "outputs": [],
   "source": [
    "for row in tokenized_dataset:\n",
    "    if row['text'].size()[0] != 512:\n",
    "         print(\"блядь\")"
   ]
  },
  {
   "cell_type": "code",
   "execution_count": 25,
   "metadata": {},
   "outputs": [
    {
     "data": {
      "text/plain": [
       "(Dataset({\n",
       "     features: ['text', 'summary'],\n",
       "     num_rows: 3048\n",
       " }),\n",
       " Dataset({\n",
       "     features: ['text', 'summary'],\n",
       "     num_rows: 318\n",
       " }))"
      ]
     },
     "execution_count": 25,
     "metadata": {},
     "output_type": "execute_result"
    }
   ],
   "source": [
    "t_train_dataset, t_val_dataset"
   ]
  },
  {
   "cell_type": "markdown",
   "metadata": {
    "id": "uXQ8gq1UijNj"
   },
   "source": [
    "Размер батча советуем подбирать таким образом, чтоб утилизировать максимум доступной VRAM"
   ]
  },
  {
   "cell_type": "code",
   "execution_count": 26,
   "metadata": {
    "id": "xmMCjFAqSDWR"
   },
   "outputs": [],
   "source": [
    "from torch.utils.data import DataLoader\n",
    "\n",
    "train_dataloader = DataLoader(t_train_dataset, batch_size=24)\n",
    "eval_dataloader = DataLoader(t_val_dataset, batch_size=24)"
   ]
  },
  {
   "cell_type": "markdown",
   "metadata": {
    "id": "Z0J1iEfFHxRz"
   },
   "source": [
    "## Реализация Decoder-cети (3 балла)\n",
    "\n",
    "В данном разделе вам необходимо **реализовать собственный декодер для генерации текста**.\n",
    "\n",
    "Можете вдохновляться кодом с семинара 1 по GPT. В инициализации весов стоит (но необязательно) проявить смекалку"
   ]
  },
  {
   "cell_type": "code",
   "execution_count": null,
   "metadata": {
    "id": "y5qSblF1EMEV"
   },
   "outputs": [],
   "source": [
    "import torch\n",
    "import torch.nn as nn\n",
    "from transformers import BertModel, BertTokenizer\n",
    "\n",
    "# Класс модели для суммаризации на основе BERT с кастомным декодером\n",
    "\n",
    "class BertSummarizer(nn.Module):\n",
    "    def __init__(self, bert_model_name='bert-base-uncased', hidden_size=768, num_decoder_layers=3, num_heads=8, dropout=0.1):\n",
    "        super(BertSummarizer, self).__init__()\n",
    "        self.bert = BertModel.from_pretrained(bert_model_name)\n",
    "        self.hidden_size = hidden_size\n",
    "\n",
    "        # Эмбеддинги для токенов на входе в декодер\n",
    "        self.embedding = nn.Embedding(self.bert.config.vocab_size, hidden_size)\n",
    "\n",
    "        #<YOUR CODE HERE>\n",
    "\n",
    "\n",
    "    # Функция для создания маски для предотвращения заглядывания вперед в декодере\n",
    "    def generate_square_subsequent_mask(self, T):\n",
    "        #<YOUR CODE HERE>\n",
    "        pass\n",
    "\n",
    "\n",
    "    def forward(self, input_ids, attention_mask, decoder_input_ids):\n",
    "        encoder_outputs = self.bert(input_ids=input_ids, attention_mask=attention_mask)\n",
    "        memory = encoder_outputs.last_hidden_state  # Выходы BERT для использования в декодере\n",
    "\n",
    "        # Эмбеддинги для входных токенов декодера\n",
    "        embedded = self.embedding(decoder_input_ids)\n",
    "\n",
    "\n",
    "        #<YOUR CODE HERE>\n",
    "        output = None  # change this line\n",
    "\n",
    "        return self.softmax(output)\n",
    "\n",
    "    def generate(self, input_ids, attention_mask, tokenizer, max_len=50):\n",
    "        encoder_outputs = self.bert(input_ids=input_ids, attention_mask=attention_mask)\n",
    "        memory = encoder_outputs.last_hidden_state\n",
    "        batch_size = input_ids.size(0)\n",
    "\n",
    "        # Начинаем с токена [CLS] или [BOS] (начало последовательности)\n",
    "        decoder_input_ids = torch.full((batch_size, 1), tokenizer.cls_token_id, dtype=torch.long).to(input_ids.device)\n",
    "        memory = memory.transpose(0, 1)\n",
    "        generated_tokens = []\n",
    "\n",
    "        for _ in range(max_len):\n",
    "            embedded = self.embedding(decoder_input_ids).transpose(0, 1)\n",
    "\n",
    "            # Генерация маски для предотвращения заглядывания вперед\n",
    "            decoder_attention_mask = self.generate_square_subsequent_mask(embedded.size(0)).to(input_ids.device)\n",
    "            decoder_output = self.decoder(tgt=embedded, memory=memory, tgt_mask=decoder_attention_mask)\n",
    "\n",
    "            output = self.fc_out(decoder_output.transpose(0, 1))\n",
    "\n",
    "            # Получаем индекс токена с наибольшей вероятностью.\n",
    "            # Помните, если EOS предсказан, прекращаем генерацию\n",
    "\n",
    "            #<YOUR CODE HERE>\n",
    "\n",
    "\n",
    "        generated_sequence = tokenizer.decode(decoder_input_ids.squeeze().tolist(), skip_special_tokens=True)\n",
    "\n",
    "        return generated_sequence"
   ]
  },
  {
   "cell_type": "code",
   "execution_count": null,
   "metadata": {},
   "outputs": [],
   "source": []
  },
  {
   "cell_type": "code",
   "execution_count": null,
   "metadata": {},
   "outputs": [],
   "source": []
  },
  {
   "cell_type": "code",
   "execution_count": null,
   "metadata": {},
   "outputs": [],
   "source": []
  },
  {
   "cell_type": "code",
   "execution_count": 22,
   "metadata": {},
   "outputs": [],
   "source": [
    "import torch\n",
    "import torch.nn as nn\n",
    "from transformers import BertModel, BertTokenizer\n",
    "\n",
    "class BertSummarizer(nn.Module):\n",
    "    def __init__(self, bert_model_name='bert-base-uncased', hidden_size=768, num_decoder_layers=3, num_heads=8, dropout=0.1):\n",
    "        super(BertSummarizer, self).__init__()\n",
    "        self.bert = BertModel.from_pretrained(bert_model_name)\n",
    "        self.hidden_size = hidden_size\n",
    "\n",
    "        # Эмбеддинги для токенов на входе в декодер\n",
    "        self.embedding = nn.Embedding(self.bert.config.vocab_size, hidden_size)"
   ]
  },
  {
   "cell_type": "code",
   "execution_count": null,
   "metadata": {},
   "outputs": [],
   "source": [
    "bertt = BertSummarizer()"
   ]
  },
  {
   "cell_type": "code",
   "execution_count": null,
   "metadata": {},
   "outputs": [],
   "source": []
  },
  {
   "cell_type": "code",
   "execution_count": null,
   "metadata": {},
   "outputs": [],
   "source": []
  },
  {
   "cell_type": "code",
   "execution_count": null,
   "metadata": {},
   "outputs": [],
   "source": []
  },
  {
   "cell_type": "code",
   "execution_count": null,
   "metadata": {
    "id": "Z5VXXCKgecHc"
   },
   "outputs": [],
   "source": [
    "# Инициализируем нашу модель и посморим на ее архитектруру\n",
    "\n",
    "model = BertSummarizer(bert_model_name=model_name)\n",
    "model = model.to('cuda')\n",
    "model"
   ]
  },
  {
   "cell_type": "code",
   "execution_count": null,
   "metadata": {
    "colab": {
     "base_uri": "https://localhost:8080/",
     "height": 73
    },
    "id": "TtvZWsojOh6g",
    "outputId": "6c323397-d141-4169-a3e8-c278b8ddf8fc"
   },
   "outputs": [],
   "source": [
    "# Посмотрим на генерацию без обучения\n",
    "\n",
    "eval_data_sample = next(iter(eval_dataloader))\n",
    "model.generate(eval_data_sample['input_ids'][:1].to('cuda'), eval_data_sample['attention_mask'][:1].to('cuda'), tokenizer)"
   ]
  },
  {
   "cell_type": "markdown",
   "metadata": {
    "id": "1H2L-0BmZyu1"
   },
   "source": [
    "## Обучение модели (1 балл)\n",
    "\n",
    "<small> 0.25 балла за простейший рабочий цикл; </small>\n",
    "\n",
    "<small> +0.5 балла за графики для лосса и метрик на трейне и валидации.</small>\n",
    "\n",
    "В данном разделе вам необходимо **реализовать цикл для обучения модели**\n"
   ]
  },
  {
   "cell_type": "code",
   "execution_count": null,
   "metadata": {
    "id": "us3xiacHBm-U"
   },
   "outputs": [],
   "source": [
    "# Пример обучения на одной итерации\n",
    "\n",
    "def train_step(model, input_ids, attention_mask, decoder_input_ids, optimizer, criterion):\n",
    "    model.train()\n",
    "    optimizer.zero_grad()\n",
    "    outputs = model(input_ids, attention_mask, decoder_input_ids)\n",
    "    loss = criterion(outputs.view(-1, outputs.size(-1)), decoder_input_ids.view(-1))\n",
    "    loss.backward()\n",
    "    optimizer.step()\n",
    "\n",
    "    return loss.item()"
   ]
  },
  {
   "cell_type": "markdown",
   "metadata": {
    "id": "Fo01OhsoaacU"
   },
   "source": [
    "## Метрики качества (1 балл)\n",
    "\n",
    "<small>По 0.33 балла за реализацию каждой из предлагаемых метрик</small>\n",
    "\n",
    "**Реализуйте функицию для подсчета метрик качества суммаризации.**\n",
    "\n",
    "Докуметация по некотрым метрикам:\n",
    " 1. [HuggingFace Rouge](https://huggingface.co/spaces/evaluate-metric/rouge)\n",
    " 2. [HuggingFace Bleu](https://huggingface.co/spaces/evaluate-metric/bleu)\n",
    " 3. [HuggingFace BERT Score](https://huggingface.co/spaces/evaluate-metric/bertscore)"
   ]
  },
  {
   "cell_type": "code",
   "execution_count": null,
   "metadata": {
    "id": "BBNcGXt8aSJ2"
   },
   "outputs": [],
   "source": [
    "def compute_metrics():\n",
    "    #<YOUR CODE HERE>\n",
    "    pass\n",
    "\n",
    "def evaluation():\n",
    "    #<YOUR CODE HERE>\n",
    "    pass"
   ]
  },
  {
   "cell_type": "markdown",
   "metadata": {
    "id": "BQ5GaAZ1chBu"
   },
   "source": [
    "## Обучение модели (0.5 балла)\n",
    "**Обучите модель, сохраните лучшую версию** (метод `.save_pretrained()` объекта класса AutoModel... или `torch.save()`) **и добавьте пример генерации**. Учтите, что если изменялся токенизатор (а лучше просто по умолчанию), его тоже нужно сохранить. Если планируете продолжить обучение\n",
    "\n",
    "Для сравнения оценки качества генерации по значениям реализованных метрик можете запустить ruT5-small без дообучения. Мы намеренно даем бейзлайн именно в таком виде."
   ]
  },
  {
   "cell_type": "code",
   "execution_count": null,
   "metadata": {
    "id": "KHu9RzbQcceV"
   },
   "outputs": [],
   "source": [
    "model = AutoModelForSeq2SeqLM.from_pretrained(\"YOUR MODEL\")\n",
    "summary = #<YOUR CODE HERE>"
   ]
  },
  {
   "cell_type": "markdown",
   "metadata": {
    "id": "vbQH_vj6d2Ue"
   },
   "source": [
    "## Реализация менее жадных стратегий выбора следующего токена (4 балла)\n",
    "Всегда ли выбор наиболее вероятного токена на каждом шаге – это лучшая стратегия для генерации текста?\n",
    "\n",
    "<details>\n",
    "    <summary>Спойлер</summary>\n",
    "    <p>Нет</p>\n",
    "</details>\n",
    "\n",
    "**Сравнение стратегий для генерации текста:**\n",
    "\n",
    "| Strategy | Description | Pros & Cons |\n",
    "| --- | --- | --- |\n",
    "| Greedy Search | Chooses the word with the highest probability as the next word in the sequence. | **Pros:** Simple and fast. <br><br/> **Cons:** Can lead to repetitive and incoherent text. |\n",
    "| Sampling with Temperature | Introduces randomness in the word selection. A higher temperature leads to more randomness. | **Pros:** Allows exploration and diverse output. <br><br/> **Cons:** Higher temperatures can lead to nonsensical outputs. |\n",
    "| Nucleus Sampling (Top-p Sampling) | Selects the next word from a truncated vocabulary, the \"nucleus\" of words <br/> that have a cumulative probability exceeding a pre-specified threshold (p). | **Pros:** Balances diversity and quality. <br><br/> **Cons:** Setting an optimal 'p' can be tricky. |\n",
    "| Beam Search | Explores multiple hypotheses (sequences of words) at each step, and keeps <br/> the 'k' most likely, where 'k' is the beam width. | **Pros:** Produces more reliable results than greedy search. <br><br/> **Cons:** Can lack diversity and lead to generic responses. |\n",
    "| Top-k Sampling | Randomly selects the next word from the top 'k' words with the highest probabilities. | **Pros:** Introduces randomness, increasing output diversity. <br><br/> **Cons:** Random selection can sometimes lead to less coherent outputs. |\n",
    "| Length Normalization | Prevents the model from favoring shorter sequences by dividing the log probabilities <br/> by the sequence length raised to some power. | **Pros:** Makes longer and potentially more informative sequences more likely. <br><br/> **Cons:** Tuning the normalization factor can be difficult. |\n",
    "| Stochastic Beam Search | Introduces randomness into the selection process of the 'k' hypotheses in beam search. | **Pros:** Increases diversity in the generated text. <br><br/> **Cons:** The trade-off between diversity and quality can be tricky to manage. |\n",
    "| Decoding with Minimum Bayes Risk (MBR) | Chooses the hypothesis (out of many) that minimizes expected loss under a loss function. | **Pros:** Optimizes the output according to a specific loss function. <br><br/> **Cons:** Computationally more complex and requires a good loss function. |\n",
    "\n",
    "Ссылки на докуметацию:\n",
    "- [reference for `AutoModelForCausalLM.generate()`](https://huggingface.co/docs/transformers/v4.29.1/en/main_classes/text_generation#transformers.GenerationMixin.generate)\n",
    "- [reference for `AutoTokenizer.decode()`](https://huggingface.co/docs/transformers/main_classes/tokenizer#transformers.PreTrainedTokenizer.decode)\n",
    "- Huggingface [docs on generation strategies](https://huggingface.co/docs/transformers/generation_strategies)"
   ]
  },
  {
   "cell_type": "markdown",
   "metadata": {
    "id": "uQF4Vc3msKpF"
   },
   "source": [
    "**1. Дополните метод `generate` в модели, чтобы получать топ-k самых вероятных токена и их \"вероятности\"** (1 балл).   \n",
    "\n",
    "**2. Реализуйте стратегию Nucleus Sampling в методе `generate`** (1 балл)\n",
    "\n",
    "**3. Реализуйте стратегию Beam Search** (2 балла)\n",
    "\n",
    "Получилось ли улучшить генерацию?"
   ]
  },
  {
   "cell_type": "code",
   "execution_count": null,
   "metadata": {
    "id": "JRfAEfP5kHcc"
   },
   "outputs": [],
   "source": []
  },
  {
   "cell_type": "markdown",
   "metadata": {
    "id": "QbiksVMOOvO8"
   },
   "source": [
    "## Послевкусие (0 баллов)\n",
    "\n",
    "Если эта домашняя работа показалась вам недостаточно большой, предлагаем провести следующий эксперимент:\n",
    "\n",
    "- от имеющейся модели \"откусить\" только декодерную часть (откусить также можно от ruT5-small);\n",
    "- немного дообучить (что называется, по вкусу);\n",
    "- посмотреть качество генерации по метрикам и \"глазами\";\n",
    "- сравнить полученное с Encoder-Decoder архитектурой;\n",
    "- ответить на вопрос \"Дает ли применение Encoder-Decoder архитектуры значительный буст в качестве генерации, или это некоторый overkill?\" (базово, ответ лежит на поверхности 😸)\n",
    "\n",
    "Ещё более опционально можно:\n",
    "- почитать про возможности генерации Encoder-only архитектурными решениями (BERT, e.g.)\n",
    "- сравнить с генерацией только Decoder'ом и both Encoder-Decoder'ом;\n",
    "- в т.ч. подобрать число обучаемых параметров таким образом, чтоб оно было примерно одинаковым для каждого инстанса моделей (их, инстансов, будет 3 -- только энкодер, только декодер и энкодер-декодер).\n",
    "\n",
    "*Вообще ориентироваться следует на следующее утверждение: \"Только энкодерные архитектуры (BERT, e.g.) хороши для понимания текста (получения эмеддингов), лишь декодерные (GPT, например) -- для генерации, энкодер-декодерные (скажем, T5) -- для обеих задач\"*"
   ]
  },
  {
   "cell_type": "code",
   "execution_count": null,
   "metadata": {
    "id": "YZM1xLliO1QM"
   },
   "outputs": [],
   "source": []
  }
 ],
 "metadata": {
  "accelerator": "GPU",
  "colab": {
   "gpuType": "T4",
   "provenance": [],
   "toc_visible": true
  },
  "kernelspec": {
   "display_name": "gen_models",
   "language": "python",
   "name": "gen_models"
  },
  "language_info": {
   "codemirror_mode": {
    "name": "ipython",
    "version": 3
   },
   "file_extension": ".py",
   "mimetype": "text/x-python",
   "name": "python",
   "nbconvert_exporter": "python",
   "pygments_lexer": "ipython3",
   "version": "3.10.12"
  },
  "widgets": {
   "application/vnd.jupyter.widget-state+json": {
    "06437165ba564bff9e29aa53f4c0df5b": {
     "model_module": "@jupyter-widgets/base",
     "model_module_version": "1.2.0",
     "model_name": "LayoutModel",
     "state": {
      "_model_module": "@jupyter-widgets/base",
      "_model_module_version": "1.2.0",
      "_model_name": "LayoutModel",
      "_view_count": null,
      "_view_module": "@jupyter-widgets/base",
      "_view_module_version": "1.2.0",
      "_view_name": "LayoutView",
      "align_content": null,
      "align_items": null,
      "align_self": null,
      "border": null,
      "bottom": null,
      "display": null,
      "flex": null,
      "flex_flow": null,
      "grid_area": null,
      "grid_auto_columns": null,
      "grid_auto_flow": null,
      "grid_auto_rows": null,
      "grid_column": null,
      "grid_gap": null,
      "grid_row": null,
      "grid_template_areas": null,
      "grid_template_columns": null,
      "grid_template_rows": null,
      "height": null,
      "justify_content": null,
      "justify_items": null,
      "left": null,
      "margin": null,
      "max_height": null,
      "max_width": null,
      "min_height": null,
      "min_width": null,
      "object_fit": null,
      "object_position": null,
      "order": null,
      "overflow": null,
      "overflow_x": null,
      "overflow_y": null,
      "padding": null,
      "right": null,
      "top": null,
      "visibility": null,
      "width": null
     }
    },
    "09b11d6c6eae4979a1c8cd42e32730ae": {
     "model_module": "@jupyter-widgets/controls",
     "model_module_version": "1.5.0",
     "model_name": "HTMLModel",
     "state": {
      "_dom_classes": [],
      "_model_module": "@jupyter-widgets/controls",
      "_model_module_version": "1.5.0",
      "_model_name": "HTMLModel",
      "_view_count": null,
      "_view_module": "@jupyter-widgets/controls",
      "_view_module_version": "1.5.0",
      "_view_name": "HTMLView",
      "description": "",
      "description_tooltip": null,
      "layout": "IPY_MODEL_ab3d20b0e457431dbe24120bb4becede",
      "placeholder": "​",
      "style": "IPY_MODEL_68b44cb7bddd4a2f950db1a9c00ce066",
      "value": "Map: 100%"
     }
    },
    "2665d63c206a45d88fada74bc984771e": {
     "model_module": "@jupyter-widgets/base",
     "model_module_version": "1.2.0",
     "model_name": "LayoutModel",
     "state": {
      "_model_module": "@jupyter-widgets/base",
      "_model_module_version": "1.2.0",
      "_model_name": "LayoutModel",
      "_view_count": null,
      "_view_module": "@jupyter-widgets/base",
      "_view_module_version": "1.2.0",
      "_view_name": "LayoutView",
      "align_content": null,
      "align_items": null,
      "align_self": null,
      "border": null,
      "bottom": null,
      "display": null,
      "flex": null,
      "flex_flow": null,
      "grid_area": null,
      "grid_auto_columns": null,
      "grid_auto_flow": null,
      "grid_auto_rows": null,
      "grid_column": null,
      "grid_gap": null,
      "grid_row": null,
      "grid_template_areas": null,
      "grid_template_columns": null,
      "grid_template_rows": null,
      "height": null,
      "justify_content": null,
      "justify_items": null,
      "left": null,
      "margin": null,
      "max_height": null,
      "max_width": null,
      "min_height": null,
      "min_width": null,
      "object_fit": null,
      "object_position": null,
      "order": null,
      "overflow": null,
      "overflow_x": null,
      "overflow_y": null,
      "padding": null,
      "right": null,
      "top": null,
      "visibility": null,
      "width": null
     }
    },
    "40c29f2dde174a3c8442d9b86a4e3fe9": {
     "model_module": "@jupyter-widgets/base",
     "model_module_version": "1.2.0",
     "model_name": "LayoutModel",
     "state": {
      "_model_module": "@jupyter-widgets/base",
      "_model_module_version": "1.2.0",
      "_model_name": "LayoutModel",
      "_view_count": null,
      "_view_module": "@jupyter-widgets/base",
      "_view_module_version": "1.2.0",
      "_view_name": "LayoutView",
      "align_content": null,
      "align_items": null,
      "align_self": null,
      "border": null,
      "bottom": null,
      "display": null,
      "flex": null,
      "flex_flow": null,
      "grid_area": null,
      "grid_auto_columns": null,
      "grid_auto_flow": null,
      "grid_auto_rows": null,
      "grid_column": null,
      "grid_gap": null,
      "grid_row": null,
      "grid_template_areas": null,
      "grid_template_columns": null,
      "grid_template_rows": null,
      "height": null,
      "justify_content": null,
      "justify_items": null,
      "left": null,
      "margin": null,
      "max_height": null,
      "max_width": null,
      "min_height": null,
      "min_width": null,
      "object_fit": null,
      "object_position": null,
      "order": null,
      "overflow": null,
      "overflow_x": null,
      "overflow_y": null,
      "padding": null,
      "right": null,
      "top": null,
      "visibility": null,
      "width": null
     }
    },
    "665428d410664f94babcd067b879ce2e": {
     "model_module": "@jupyter-widgets/controls",
     "model_module_version": "1.5.0",
     "model_name": "DescriptionStyleModel",
     "state": {
      "_model_module": "@jupyter-widgets/controls",
      "_model_module_version": "1.5.0",
      "_model_name": "DescriptionStyleModel",
      "_view_count": null,
      "_view_module": "@jupyter-widgets/base",
      "_view_module_version": "1.2.0",
      "_view_name": "StyleView",
      "description_width": ""
     }
    },
    "68b44cb7bddd4a2f950db1a9c00ce066": {
     "model_module": "@jupyter-widgets/controls",
     "model_module_version": "1.5.0",
     "model_name": "DescriptionStyleModel",
     "state": {
      "_model_module": "@jupyter-widgets/controls",
      "_model_module_version": "1.5.0",
      "_model_name": "DescriptionStyleModel",
      "_view_count": null,
      "_view_module": "@jupyter-widgets/base",
      "_view_module_version": "1.2.0",
      "_view_name": "StyleView",
      "description_width": ""
     }
    },
    "911fd70fda12476ab2b788433d6ff83f": {
     "model_module": "@jupyter-widgets/controls",
     "model_module_version": "1.5.0",
     "model_name": "FloatProgressModel",
     "state": {
      "_dom_classes": [],
      "_model_module": "@jupyter-widgets/controls",
      "_model_module_version": "1.5.0",
      "_model_name": "FloatProgressModel",
      "_view_count": null,
      "_view_module": "@jupyter-widgets/controls",
      "_view_module_version": "1.5.0",
      "_view_name": "ProgressView",
      "bar_style": "success",
      "description": "",
      "description_tooltip": null,
      "layout": "IPY_MODEL_2665d63c206a45d88fada74bc984771e",
      "max": 3048,
      "min": 0,
      "orientation": "horizontal",
      "style": "IPY_MODEL_c0ddd3783ec047569c2024e461d5ad0f",
      "value": 3048
     }
    },
    "a8e5203a02b845a29f57ca545c50c5d0": {
     "model_module": "@jupyter-widgets/controls",
     "model_module_version": "1.5.0",
     "model_name": "HBoxModel",
     "state": {
      "_dom_classes": [],
      "_model_module": "@jupyter-widgets/controls",
      "_model_module_version": "1.5.0",
      "_model_name": "HBoxModel",
      "_view_count": null,
      "_view_module": "@jupyter-widgets/controls",
      "_view_module_version": "1.5.0",
      "_view_name": "HBoxView",
      "box_style": "",
      "children": [
       "IPY_MODEL_09b11d6c6eae4979a1c8cd42e32730ae",
       "IPY_MODEL_911fd70fda12476ab2b788433d6ff83f",
       "IPY_MODEL_bcfc58a3f90745449c3f559aa5ab999a"
      ],
      "layout": "IPY_MODEL_40c29f2dde174a3c8442d9b86a4e3fe9"
     }
    },
    "ab3d20b0e457431dbe24120bb4becede": {
     "model_module": "@jupyter-widgets/base",
     "model_module_version": "1.2.0",
     "model_name": "LayoutModel",
     "state": {
      "_model_module": "@jupyter-widgets/base",
      "_model_module_version": "1.2.0",
      "_model_name": "LayoutModel",
      "_view_count": null,
      "_view_module": "@jupyter-widgets/base",
      "_view_module_version": "1.2.0",
      "_view_name": "LayoutView",
      "align_content": null,
      "align_items": null,
      "align_self": null,
      "border": null,
      "bottom": null,
      "display": null,
      "flex": null,
      "flex_flow": null,
      "grid_area": null,
      "grid_auto_columns": null,
      "grid_auto_flow": null,
      "grid_auto_rows": null,
      "grid_column": null,
      "grid_gap": null,
      "grid_row": null,
      "grid_template_areas": null,
      "grid_template_columns": null,
      "grid_template_rows": null,
      "height": null,
      "justify_content": null,
      "justify_items": null,
      "left": null,
      "margin": null,
      "max_height": null,
      "max_width": null,
      "min_height": null,
      "min_width": null,
      "object_fit": null,
      "object_position": null,
      "order": null,
      "overflow": null,
      "overflow_x": null,
      "overflow_y": null,
      "padding": null,
      "right": null,
      "top": null,
      "visibility": null,
      "width": null
     }
    },
    "bcfc58a3f90745449c3f559aa5ab999a": {
     "model_module": "@jupyter-widgets/controls",
     "model_module_version": "1.5.0",
     "model_name": "HTMLModel",
     "state": {
      "_dom_classes": [],
      "_model_module": "@jupyter-widgets/controls",
      "_model_module_version": "1.5.0",
      "_model_name": "HTMLModel",
      "_view_count": null,
      "_view_module": "@jupyter-widgets/controls",
      "_view_module_version": "1.5.0",
      "_view_name": "HTMLView",
      "description": "",
      "description_tooltip": null,
      "layout": "IPY_MODEL_06437165ba564bff9e29aa53f4c0df5b",
      "placeholder": "​",
      "style": "IPY_MODEL_665428d410664f94babcd067b879ce2e",
      "value": " 3048/3048 [00:13&lt;00:00, 206.31 examples/s]"
     }
    },
    "c0ddd3783ec047569c2024e461d5ad0f": {
     "model_module": "@jupyter-widgets/controls",
     "model_module_version": "1.5.0",
     "model_name": "ProgressStyleModel",
     "state": {
      "_model_module": "@jupyter-widgets/controls",
      "_model_module_version": "1.5.0",
      "_model_name": "ProgressStyleModel",
      "_view_count": null,
      "_view_module": "@jupyter-widgets/base",
      "_view_module_version": "1.2.0",
      "_view_name": "StyleView",
      "bar_color": null,
      "description_width": ""
     }
    }
   }
  }
 },
 "nbformat": 4,
 "nbformat_minor": 4
}
